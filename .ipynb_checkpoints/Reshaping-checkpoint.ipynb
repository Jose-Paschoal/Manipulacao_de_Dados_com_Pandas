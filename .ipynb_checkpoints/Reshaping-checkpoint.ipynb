{
 "cells": [
  {
   "cell_type": "markdown",
   "metadata": {},
   "source": [
    "# Reshaping dos Dados"
   ]
  },
  {
   "cell_type": "code",
   "execution_count": 1,
   "metadata": {},
   "outputs": [],
   "source": [
    "import pandas as pd\n",
    "import numpy as np"
   ]
  },
  {
   "cell_type": "code",
   "execution_count": 5,
   "metadata": {},
   "outputs": [],
   "source": [
    "datas = pd.date_range('20210101', periods=6)\n",
    "\n",
    "df = pd.DataFrame(np.random.randn(6,4), index=datas, columns=['Var_A', 'Var_B', 'Var_C', 'Var_D'])"
   ]
  },
  {
   "cell_type": "code",
   "execution_count": 6,
   "metadata": {},
   "outputs": [
    {
     "data": {
      "text/html": [
       "<div>\n",
       "<style scoped>\n",
       "    .dataframe tbody tr th:only-of-type {\n",
       "        vertical-align: middle;\n",
       "    }\n",
       "\n",
       "    .dataframe tbody tr th {\n",
       "        vertical-align: top;\n",
       "    }\n",
       "\n",
       "    .dataframe thead th {\n",
       "        text-align: right;\n",
       "    }\n",
       "</style>\n",
       "<table border=\"1\" class=\"dataframe\">\n",
       "  <thead>\n",
       "    <tr style=\"text-align: right;\">\n",
       "      <th></th>\n",
       "      <th>Var_A</th>\n",
       "      <th>Var_B</th>\n",
       "      <th>Var_C</th>\n",
       "      <th>Var_D</th>\n",
       "    </tr>\n",
       "  </thead>\n",
       "  <tbody>\n",
       "    <tr>\n",
       "      <th>2021-01-01</th>\n",
       "      <td>1.386163</td>\n",
       "      <td>1.044740</td>\n",
       "      <td>0.548390</td>\n",
       "      <td>0.100424</td>\n",
       "    </tr>\n",
       "    <tr>\n",
       "      <th>2021-01-02</th>\n",
       "      <td>0.328375</td>\n",
       "      <td>-0.255421</td>\n",
       "      <td>0.559918</td>\n",
       "      <td>0.289326</td>\n",
       "    </tr>\n",
       "    <tr>\n",
       "      <th>2021-01-03</th>\n",
       "      <td>-1.458215</td>\n",
       "      <td>0.022043</td>\n",
       "      <td>-1.068380</td>\n",
       "      <td>0.069266</td>\n",
       "    </tr>\n",
       "    <tr>\n",
       "      <th>2021-01-04</th>\n",
       "      <td>1.467694</td>\n",
       "      <td>2.099048</td>\n",
       "      <td>1.027597</td>\n",
       "      <td>-0.152674</td>\n",
       "    </tr>\n",
       "    <tr>\n",
       "      <th>2021-01-05</th>\n",
       "      <td>0.184856</td>\n",
       "      <td>-2.336481</td>\n",
       "      <td>2.217262</td>\n",
       "      <td>-0.572860</td>\n",
       "    </tr>\n",
       "    <tr>\n",
       "      <th>2021-01-06</th>\n",
       "      <td>1.384935</td>\n",
       "      <td>0.642574</td>\n",
       "      <td>-0.451771</td>\n",
       "      <td>0.385779</td>\n",
       "    </tr>\n",
       "  </tbody>\n",
       "</table>\n",
       "</div>"
      ],
      "text/plain": [
       "               Var_A     Var_B     Var_C     Var_D\n",
       "2021-01-01  1.386163  1.044740  0.548390  0.100424\n",
       "2021-01-02  0.328375 -0.255421  0.559918  0.289326\n",
       "2021-01-03 -1.458215  0.022043 -1.068380  0.069266\n",
       "2021-01-04  1.467694  2.099048  1.027597 -0.152674\n",
       "2021-01-05  0.184856 -2.336481  2.217262 -0.572860\n",
       "2021-01-06  1.384935  0.642574 -0.451771  0.385779"
      ]
     },
     "execution_count": 6,
     "metadata": {},
     "output_type": "execute_result"
    }
   ],
   "source": [
    "df"
   ]
  },
  {
   "cell_type": "code",
   "execution_count": 8,
   "metadata": {},
   "outputs": [
    {
     "data": {
      "text/html": [
       "<div>\n",
       "<style scoped>\n",
       "    .dataframe tbody tr th:only-of-type {\n",
       "        vertical-align: middle;\n",
       "    }\n",
       "\n",
       "    .dataframe tbody tr th {\n",
       "        vertical-align: top;\n",
       "    }\n",
       "\n",
       "    .dataframe thead th {\n",
       "        text-align: right;\n",
       "    }\n",
       "</style>\n",
       "<table border=\"1\" class=\"dataframe\">\n",
       "  <thead>\n",
       "    <tr style=\"text-align: right;\">\n",
       "      <th></th>\n",
       "      <th>2021-01-01</th>\n",
       "      <th>2021-01-02</th>\n",
       "      <th>2021-01-03</th>\n",
       "      <th>2021-01-04</th>\n",
       "      <th>2021-01-05</th>\n",
       "      <th>2021-01-06</th>\n",
       "    </tr>\n",
       "  </thead>\n",
       "  <tbody>\n",
       "    <tr>\n",
       "      <th>Var_A</th>\n",
       "      <td>1.386163</td>\n",
       "      <td>0.328375</td>\n",
       "      <td>-1.458215</td>\n",
       "      <td>1.467694</td>\n",
       "      <td>0.184856</td>\n",
       "      <td>1.384935</td>\n",
       "    </tr>\n",
       "    <tr>\n",
       "      <th>Var_B</th>\n",
       "      <td>1.044740</td>\n",
       "      <td>-0.255421</td>\n",
       "      <td>0.022043</td>\n",
       "      <td>2.099048</td>\n",
       "      <td>-2.336481</td>\n",
       "      <td>0.642574</td>\n",
       "    </tr>\n",
       "    <tr>\n",
       "      <th>Var_C</th>\n",
       "      <td>0.548390</td>\n",
       "      <td>0.559918</td>\n",
       "      <td>-1.068380</td>\n",
       "      <td>1.027597</td>\n",
       "      <td>2.217262</td>\n",
       "      <td>-0.451771</td>\n",
       "    </tr>\n",
       "    <tr>\n",
       "      <th>Var_D</th>\n",
       "      <td>0.100424</td>\n",
       "      <td>0.289326</td>\n",
       "      <td>0.069266</td>\n",
       "      <td>-0.152674</td>\n",
       "      <td>-0.572860</td>\n",
       "      <td>0.385779</td>\n",
       "    </tr>\n",
       "  </tbody>\n",
       "</table>\n",
       "</div>"
      ],
      "text/plain": [
       "       2021-01-01  2021-01-02  2021-01-03  2021-01-04  2021-01-05  2021-01-06\n",
       "Var_A    1.386163    0.328375   -1.458215    1.467694    0.184856    1.384935\n",
       "Var_B    1.044740   -0.255421    0.022043    2.099048   -2.336481    0.642574\n",
       "Var_C    0.548390    0.559918   -1.068380    1.027597    2.217262   -0.451771\n",
       "Var_D    0.100424    0.289326    0.069266   -0.152674   -0.572860    0.385779"
      ]
     },
     "execution_count": 8,
     "metadata": {},
     "output_type": "execute_result"
    }
   ],
   "source": [
    "# transpondo colunas e index\n",
    "\n",
    "dft = df.T\n",
    "\n",
    "dft"
   ]
  },
  {
   "cell_type": "code",
   "execution_count": 9,
   "metadata": {},
   "outputs": [
    {
     "data": {
      "text/plain": [
       "(6, 4)"
      ]
     },
     "execution_count": 9,
     "metadata": {},
     "output_type": "execute_result"
    }
   ],
   "source": [
    "# vendo o formato comum dos df\n",
    "\n",
    "df.shape"
   ]
  },
  {
   "cell_type": "code",
   "execution_count": 10,
   "metadata": {},
   "outputs": [
    {
     "data": {
      "text/plain": [
       "array([[ 1.38616274,  0.32837468, -1.45821483,  1.46769415,  0.18485556,\n",
       "         1.38493523],\n",
       "       [ 1.04474048, -0.25542135,  0.02204343,  2.09904845, -2.33648084,\n",
       "         0.64257426],\n",
       "       [ 0.54838961,  0.5599181 , -1.06837969,  1.02759721,  2.21726218,\n",
       "        -0.4517708 ],\n",
       "       [ 0.10042419,  0.28932559,  0.06926644, -0.15267444, -0.57285959,\n",
       "         0.38577867]])"
      ]
     },
     "execution_count": 10,
     "metadata": {},
     "output_type": "execute_result"
    }
   ],
   "source": [
    "# extraindo apenas os valores numericos de um dataframe\n",
    "\n",
    "dft.values"
   ]
  },
  {
   "cell_type": "code",
   "execution_count": 11,
   "metadata": {},
   "outputs": [
    {
     "data": {
      "text/plain": [
       "24"
      ]
     },
     "execution_count": 11,
     "metadata": {},
     "output_type": "execute_result"
    }
   ],
   "source": [
    "# vendo a quantidade de elementos dentro do dataframe\n",
    "\n",
    "np.size(dft.values)"
   ]
  },
  {
   "cell_type": "code",
   "execution_count": 12,
   "metadata": {},
   "outputs": [
    {
     "data": {
      "text/plain": [
       "array([[ 1.38616274,  0.32837468, -1.45821483,  1.46769415,  0.18485556,\n",
       "         1.38493523],\n",
       "       [ 1.04474048, -0.25542135,  0.02204343,  2.09904845, -2.33648084,\n",
       "         0.64257426],\n",
       "       [ 0.54838961,  0.5599181 , -1.06837969,  1.02759721,  2.21726218,\n",
       "        -0.4517708 ],\n",
       "       [ 0.10042419,  0.28932559,  0.06926644, -0.15267444, -0.57285959,\n",
       "         0.38577867]])"
      ]
     },
     "execution_count": 12,
     "metadata": {},
     "output_type": "execute_result"
    }
   ],
   "source": [
    "# usando a função reshape\n",
    "\n",
    "v = dft.values\n",
    "\n",
    "v"
   ]
  },
  {
   "cell_type": "code",
   "execution_count": 13,
   "metadata": {},
   "outputs": [
    {
     "data": {
      "text/plain": [
       "array([[ 1.38616274,  0.32837468, -1.45821483,  1.46769415,  0.18485556,\n",
       "         1.38493523,  1.04474048, -0.25542135,  0.02204343,  2.09904845,\n",
       "        -2.33648084,  0.64257426],\n",
       "       [ 0.54838961,  0.5599181 , -1.06837969,  1.02759721,  2.21726218,\n",
       "        -0.4517708 ,  0.10042419,  0.28932559,  0.06926644, -0.15267444,\n",
       "        -0.57285959,  0.38577867]])"
      ]
     },
     "execution_count": 13,
     "metadata": {},
     "output_type": "execute_result"
    }
   ],
   "source": [
    "v.reshape((2,12))"
   ]
  },
  {
   "cell_type": "markdown",
   "metadata": {},
   "source": [
    "# Função Pivot()"
   ]
  },
  {
   "cell_type": "code",
   "execution_count": null,
   "metadata": {},
   "outputs": [],
   "source": []
  }
 ],
 "metadata": {
  "kernelspec": {
   "display_name": "Python 3",
   "language": "python",
   "name": "python3"
  },
  "language_info": {
   "codemirror_mode": {
    "name": "ipython",
    "version": 3
   },
   "file_extension": ".py",
   "mimetype": "text/x-python",
   "name": "python",
   "nbconvert_exporter": "python",
   "pygments_lexer": "ipython3",
   "version": "3.8.5"
  }
 },
 "nbformat": 4,
 "nbformat_minor": 4
}
